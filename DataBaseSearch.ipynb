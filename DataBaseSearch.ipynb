{
 "cells": [
  {
   "cell_type": "code",
   "execution_count": 32,
   "source": [
    "pip install PrettyTable"
   ],
   "outputs": [
    {
     "output_type": "stream",
     "name": "stdout",
     "text": [
      "Note: you may need to restart the kernel to use updated packages.\n"
     ]
    },
    {
     "output_type": "stream",
     "name": "stderr",
     "text": [
      "'C:\\Users\\Vivek' is not recognized as an internal or external command,\n",
      "operable program or batch file.\n"
     ]
    }
   ],
   "metadata": {}
  },
  {
   "cell_type": "code",
   "execution_count": null,
   "source": [
    "import json\r\n",
    "\r\n",
    "from prettytable import PrettyTable\r\n",
    "from stringMatcher import levenshtein_ratio_and_distance\r\n",
    "from time import time\r\n",
    "table = PrettyTable(field_names=[\"course_id\", \"course_title\", \"is_paid\", \"price\",\"num_subscribers\",\"subject\"])"
   ],
   "outputs": [],
   "metadata": {}
  },
  {
   "cell_type": "code",
   "execution_count": 38,
   "source": [
    "%store -r course_dic\r\n",
    "%store -r df_name1"
   ],
   "outputs": [],
   "metadata": {}
  },
  {
   "cell_type": "code",
   "execution_count": 39,
   "source": [
    "def getClosestMatch(queryString):\r\n",
    "    \r\n",
    "    \r\n",
    "    matchRatios          = [levenshtein_ratio_and_distance(queryString, KEY) for KEY, _ in df_name1.items()]\r\n",
    "    bestMatchRatio       = max(matchRatios)\r\n",
    "\r\n",
    "    \r\n",
    "    if (bestMatchRatio < 0.5):\r\n",
    "        return {\r\n",
    "            \"No Match found as per your input\"\r\n",
    "        }\r\n",
    "    \r\n",
    "    \r\n",
    "    bestMatchRatio_index = matchRatios.index(bestMatchRatio)\r\n",
    "\r\n",
    "    response = f\"Subject : {df_name1[bestMatchRatio_index]['subject']}\"\r\n",
    "    \r\n",
    "    return response"
   ],
   "outputs": [],
   "metadata": {}
  },
  {
   "cell_type": "code",
   "execution_count": 40,
   "source": [
    "def request(course=\"\"):\r\n",
    "    course = str(course)\r\n",
    "    if(course.replace(\" \", \"\").strip() == \"\"):\r\n",
    "        return f\"Invalid State Name\"\r\n",
    "    \r\n",
    "    response = getClosestMatch(queryString = course)\r\n",
    "\r\n",
    "    print(response)"
   ],
   "outputs": [],
   "metadata": {}
  },
  {
   "cell_type": "code",
   "execution_count": null,
   "source": [
    "request(course=\"Javascript for Beginners\")"
   ],
   "outputs": [],
   "metadata": {}
  }
 ],
 "metadata": {
  "orig_nbformat": 4,
  "language_info": {
   "name": "python",
   "version": "3.8.8",
   "mimetype": "text/x-python",
   "codemirror_mode": {
    "name": "ipython",
    "version": 3
   },
   "pygments_lexer": "ipython3",
   "nbconvert_exporter": "python",
   "file_extension": ".py"
  },
  "kernelspec": {
   "name": "python3",
   "display_name": "Python 3.8.8 64-bit ('base': conda)"
  },
  "interpreter": {
   "hash": "9c4698d52d05c0b733337039745f7d7b03dbb6333ee3fcb6f7fa1aa53d1230c2"
  }
 },
 "nbformat": 4,
 "nbformat_minor": 2
}